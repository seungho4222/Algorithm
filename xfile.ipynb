{
 "cells": [
  {
   "cell_type": "markdown",
   "metadata": {},
   "source": [
    "### :heavy_check_mark: list1_2\n",
    "- 전기버스 운행: 최소 충전으로 종점 가기\n",
    "    - 최대 운행횟수만큼 전진 후 충전소 없을 경우 위치 -1씩 줄이며 충전소 재탐색\n",
    "    - 위치 1칸씩 전진하며 탐색 시 코드 복잡해짐 :x:"
   ]
  },
  {
   "cell_type": "markdown",
   "metadata": {},
   "source": [
    "### :heavy_check_mark: list1_3\n",
    "- N장의 카드배열중 가장 많은 카드의 숫자와 장수 구하기\n",
    "    - 카드 번호(0~9)를 인덱스로 하기 위한 [0]*10배열 생성\n",
    "    - 카드 번호 순회하며 배열의 인덱스에 저장 :heavy_exclamation_mark:"
   ]
  },
  {
   "cell_type": "markdown",
   "metadata": {},
   "source": [
    "### :heavy_check_mark: list2_2\n",
    "- 부분집합 조건 비교\n",
    "    - 부분집합 수(1<<n), 부분집합 생성(i & 1<<j)\n",
    "    - 2진법과 비트연산자 생각하기 :heavy_exclamation_mark:"
   ]
  },
  {
   "cell_type": "markdown",
   "metadata": {},
   "source": [
    "### :heavy_check_mark: stack1_1\n",
    "- 종이붙이기\n",
    "    - 세로 크기 고정, 가로열 주어짐\n",
    "    - 종이 사이즈별 최대 붙일 수 있는 경우의 수 구하기\n",
    "    - 남은 칸은 재귀함수로 계산 :heavy_exclamation_mark:"
   ]
  },
  {
   "cell_type": "markdown",
   "metadata": {},
   "source": [
    "### :heavy_check_mark: stack2_2\n",
    "- 미로 출구 찾기\n",
    "    - 동서남북 행렬값 체크용 시퀀스 생성\n",
    "    - 지나간 길 표시 + 네 방향 탐색\n",
    "    - FILO 탐색, DFS(깊이우선탐색) :heavy_exclamation_mark:"
   ]
  },
  {
   "cell_type": "markdown",
   "metadata": {},
   "source": [
    "### :heavy_check_mark: stack2_4\n",
    "- 중복열 제거한 배열 최소합\n",
    "    - 중복열 방지를 위해 방문기록 체크\n",
    "    - 재귀함수로 행 번호 증가시키며 최소합 스택\n",
    "    - 마지막열 방문 후 최소합 비교 및 방문기록 pop()\n",
    "    - 재귀함수의 구조를 상상할 수 있어야 한다 :heavy_exclamation_mark:"
   ]
  },
  {
   "cell_type": "markdown",
   "metadata": {},
   "source": [
    "### :heavy_check_mark: queue1_2\n",
    "- 미로에서 가장 빠른 탈출구까지 거리구하기\n",
    "    - 핵심은 FIFO! 시작점에서 갈수 있는곳을 모두 저장후 카운트\n",
    "    - BFS(너비우선탐색): 가까운곳 다 돌고(이때 카운트) 그 다음 거리 순회"
   ]
  }
 ],
 "metadata": {
  "language_info": {
   "name": "python"
  },
  "orig_nbformat": 4
 },
 "nbformat": 4,
 "nbformat_minor": 2
}
