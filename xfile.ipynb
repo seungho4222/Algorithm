{
 "cells": [
  {
   "cell_type": "markdown",
   "metadata": {},
   "source": [
    "### queue1_2\n",
    "- 미로에서 가장 빠른 탈출구까지 거리구하기\n",
    "    - 핵심은 FIFO! 시작점에서 갈수 있는곳을 모두 저장후 카운트\n",
    "    - BFS(너비우선탐색): 가까운곳 다 돌고(이때 카운트) 그 다음 거리 순회"
   ]
  }
 ],
 "metadata": {
  "language_info": {
   "name": "python"
  },
  "orig_nbformat": 4
 },
 "nbformat": 4,
 "nbformat_minor": 2
}
