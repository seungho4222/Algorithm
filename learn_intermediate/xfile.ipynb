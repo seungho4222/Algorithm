{
 "cells": [
  {
   "cell_type": "markdown",
   "metadata": {},
   "source": [
    "### :heavy_check_mark: list1_2\n",
    "- 전기버스 운행: 최소 충전으로 종점 가기\n",
    "    - 최대 운행횟수만큼 전진 후 충전소 없을 경우 위치 -1씩 줄이며 충전소 재탐색\n",
    "    - 위치 1칸씩 전진하며 탐색 시 코드 복잡해짐 :x:"
   ]
  },
  {
   "cell_type": "markdown",
   "metadata": {},
   "source": [
    "### :heavy_check_mark: list1_3\n",
    "- N장의 카드배열중 가장 많은 카드의 숫자와 장수 구하기\n",
    "    - 카드 번호(0~9)를 인덱스로 하기 위한 [0]*10배열 생성\n",
    "    - 카드 번호 순회하며 배열의 인덱스에 저장 :heavy_exclamation_mark:"
   ]
  },
  {
   "cell_type": "markdown",
   "metadata": {},
   "source": [
    "### :heavy_check_mark: list2_2\n",
    "- 부분집합 조건 비교\n",
    "    - 부분집합 수(1<<n), 부분집합 생성(i & 1<<j)\n",
    "    - 2진법과 비트연산자 생각하기 :heavy_exclamation_mark:"
   ]
  },
  {
   "cell_type": "markdown",
   "metadata": {},
   "source": [
    "### :heavy_check_mark: stack1_1\n",
    "- 종이붙이기\n",
    "    - 세로 크기 고정, 가로열 주어짐\n",
    "    - 종이 사이즈별 최대 붙일 수 있는 경우의 수 구하기\n",
    "    - 남은 칸은 재귀함수로 계산 :heavy_exclamation_mark:"
   ]
  },
  {
   "cell_type": "markdown",
   "metadata": {},
   "source": [
    "### :heavy_check_mark: stack2_2\n",
    "- 미로 출구 찾기\n",
    "    - 동서남북 행렬값 체크용 시퀀스 생성\n",
    "    - 지나간 길 표시 + 네 방향 탐색\n",
    "    - FILO 탐색, DFS(깊이우선탐색) :heavy_exclamation_mark:"
   ]
  },
  {
   "cell_type": "markdown",
   "metadata": {},
   "source": [
    "### :heavy_check_mark: stack2_4\n",
    "- 중복열 제거한 배열 최소합\n",
    "    - 중복열 방지를 위해 방문기록 체크\n",
    "    - 재귀함수로 행 번호 증가시키며 최소합 스택\n",
    "    - 마지막열 방문 후 최소합 비교 및 방문기록 pop()\n",
    "    - 재귀함수의 구조를 상상할 수 있어야 한다 :heavy_exclamation_mark:"
   ]
  },
  {
   "cell_type": "markdown",
   "metadata": {},
   "source": [
    "### :heavy_check_mark: queue1_2\n",
    "- 미로에서 가장 빠른 탈출구까지 거리구하기\n",
    "    - 핵심은 FIFO! 시작점에서 갈수 있는곳을 모두 저장후 카운트\n",
    "    - BFS(너비우선탐색): 가까운곳 다 돌고(이때 카운트) 그 다음 거리 순회"
   ]
  },
  {
   "cell_type": "markdown",
   "metadata": {},
   "source": [
    "### :heavy_check_mark: linked list1_2\n",
    "- 수열 합치기: 위치 찾아 수열 삽입\n",
    "    - 시간초과 지옥...\n",
    "    - 리스트 내 원하는 위치에 리스트 삽입하는 법 :bell: 기존배열[i:i] = 삽입할 배열 (i = 삽입할 인덱스 위치)\n",
    "    - 위치 비교 시 범위 벗어나는 경우 대비하여 float('inf') 활용 잘하기 :heavy_exclamation_mark:"
   ]
  },
  {
   "cell_type": "markdown",
   "metadata": {},
   "source": [
    "### :heavy_check_mark: tree1_1\n",
    "- 서브트리 노드 카운트\n",
    "    - 부모, 자식노드 표현할 리스트 구현 (인덱스: 부모노드값, 밸류: 자식노드값)\n",
    "    - 재귀함수로 DFS 실행 :heavy_exclamation_mark:"
   ]
  },
  {
   "cell_type": "markdown",
   "metadata": {},
   "source": [
    "### :heavy_check_mark: tree1_2\n",
    "- 이진탐색 트리 생성\n",
    "    - 왼쪽 노드는 현재 노드의 2배값 (1 - 2 - 4 - 8, 3 - 6 ...)\n",
    "    - 오른쪽 노드는 현재 노드의 2배+1값 (1 - 3 - 7, 2 - 5 ...)\n",
    "    - 중위순회 순서: 왼쪽노드 - 루트노드 - 오른쪽 노드"
   ]
  },
  {
   "cell_type": "markdown",
   "metadata": {},
   "source": [
    "### :heavy_check_mark: tree1_3\n",
    "- 최소힙 정렬\n",
    "    - 완전 이진 트리의 노드 번호 규칙 중요! ( 부모 노드번호는 자식노드 번호를 2로 나눈 몫 )\n",
    "    - 루트부터 노드번호 순회하며 값 비교 ( 교환 시 상위 노드번호와 재비교 필수 )"
   ]
  }
 ],
 "metadata": {
  "language_info": {
   "name": "python"
  },
  "orig_nbformat": 4
 },
 "nbformat": 4,
 "nbformat_minor": 2
}
